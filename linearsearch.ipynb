{
 "cells": [
  {
   "cell_type": "code",
   "execution_count": 10,
   "metadata": {},
   "outputs": [],
   "source": [
    "array = ['a','b','c']"
   ]
  },
  {
   "cell_type": "code",
   "execution_count": 15,
   "metadata": {},
   "outputs": [
    {
     "name": "stdout",
     "output_type": "stream",
     "text": [
      "Item was found in index 0\n"
     ]
    }
   ],
   "source": [
    "ToFind = input('Enter the letter to find')\n",
    "flag = False\n",
    "count = 0\n",
    "\n",
    "while flag == False and count < len(array):\n",
    "    if array[count] == ToFind:\n",
    "        position = count\n",
    "        flag = True\n",
    "    count += 1\n",
    "\n",
    "if flag == True:\n",
    "    print(f'Item was found in index {position}')\n",
    "else:\n",
    "    print('item was not found')"
   ]
  }
 ],
 "metadata": {
  "kernelspec": {
   "display_name": "venv",
   "language": "python",
   "name": "python3"
  },
  "language_info": {
   "codemirror_mode": {
    "name": "ipython",
    "version": 3
   },
   "file_extension": ".py",
   "mimetype": "text/x-python",
   "name": "python",
   "nbconvert_exporter": "python",
   "pygments_lexer": "ipython3",
   "version": "3.13.2"
  }
 },
 "nbformat": 4,
 "nbformat_minor": 2
}
