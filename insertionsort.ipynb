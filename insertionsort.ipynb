{
 "cells": [
  {
   "cell_type": "code",
   "execution_count": 3,
   "metadata": {},
   "outputs": [],
   "source": [
    "array = [8,2,3,9,10]\n",
    "\n",
    "for i in range(1,len(array)):\n",
    "    key = array[i]\n",
    "    j = i - 1\n",
    "    while key < array[j] and j >= 0:\n",
    "        temp = array[j]\n",
    "        array[j] = array [j + 1]\n",
    "        array [j+1] = temp\n",
    "        j -= 1\n"
   ]
  }
 ],
 "metadata": {
  "kernelspec": {
   "display_name": "venv",
   "language": "python",
   "name": "python3"
  },
  "language_info": {
   "codemirror_mode": {
    "name": "ipython",
    "version": 3
   },
   "file_extension": ".py",
   "mimetype": "text/x-python",
   "name": "python",
   "nbconvert_exporter": "python",
   "pygments_lexer": "ipython3",
   "version": "3.13.2"
  }
 },
 "nbformat": 4,
 "nbformat_minor": 2
}
