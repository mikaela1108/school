{
 "cells": [
  {
   "cell_type": "code",
   "execution_count": 20,
   "metadata": {},
   "outputs": [],
   "source": [
    "file = open('people.txt','r') # only a pointer to the file, not the file itself"
   ]
  },
  {
   "cell_type": "code",
   "execution_count": null,
   "metadata": {},
   "outputs": [
    {
     "name": "stdout",
     "output_type": "stream",
     "text": [
      "mikaela\n",
      "17\n",
      "august\n",
      "wooyoung\n",
      "25\n",
      "november\n",
      "jisung\n",
      "23\n",
      "february\n",
      "lisa\n",
      "28\n",
      "march\n"
     ]
    }
   ],
   "source": [
    "print(file.read().strip())\n",
    "\n",
    "# they are all in text fromat not string"
   ]
  },
  {
   "cell_type": "code",
   "execution_count": 13,
   "metadata": {},
   "outputs": [
    {
     "name": "stdout",
     "output_type": "stream",
     "text": [
      "mikaela\n",
      "17\n",
      "august\n",
      "wooyoung\n",
      "25\n",
      "november\n",
      "jisung\n",
      "23\n",
      "february\n",
      "lisa\n",
      "28\n",
      "march\n"
     ]
    }
   ],
   "source": [
    "line = file.readline().strip()\n",
    "while line != '':\n",
    "    print(line)\n",
    "    line = file.readline().strip()"
   ]
  },
  {
   "cell_type": "markdown",
   "metadata": {},
   "source": [
    "# exam paper question "
   ]
  },
  {
   "cell_type": "code",
   "execution_count": 21,
   "metadata": {},
   "outputs": [],
   "source": [
    "array = [[None,None,None] for i in range (4)]"
   ]
  },
  {
   "cell_type": "code",
   "execution_count": null,
   "metadata": {},
   "outputs": [],
   "source": [
    "name = file.readline().strip()\n",
    "peoplecount = 0\n",
    "while name != '':\n",
    "    age = file.readline().strip()\n",
    "    month = file.readline().strip()\n",
    "    array[peoplecount] = [name,age,month]\n",
    "    peoplecount += 1\n",
    "    name = file.readline().strip()"
   ]
  },
  {
   "cell_type": "code",
   "execution_count": 23,
   "metadata": {},
   "outputs": [
    {
     "name": "stdout",
     "output_type": "stream",
     "text": [
      "[['mikaela', '17', 'august'], ['wooyoung', '25', 'november'], ['jisung', '23', 'february'], ['lisa', '28', 'march']]\n"
     ]
    }
   ],
   "source": [
    "print(array)"
   ]
  }
 ],
 "metadata": {
  "kernelspec": {
   "display_name": "venv",
   "language": "python",
   "name": "python3"
  },
  "language_info": {
   "codemirror_mode": {
    "name": "ipython",
    "version": 3
   },
   "file_extension": ".py",
   "mimetype": "text/x-python",
   "name": "python",
   "nbconvert_exporter": "python",
   "pygments_lexer": "ipython3",
   "version": "3.13.2"
  }
 },
 "nbformat": 4,
 "nbformat_minor": 2
}
