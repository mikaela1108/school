{
 "cells": [
  {
   "cell_type": "code",
   "execution_count": null,
   "metadata": {},
   "outputs": [],
   "source": [
    "array = [2, 67, 31, 78, 213, 6, 4, 8, 3]\n",
    "\n",
    "swap = True\n",
    "top = len(array) - 1 #make this a variable so we can alter it\n",
    "\n",
    "while swap == True:\n",
    "    swap = False #set before one of the pass\n",
    "    for i in range (top): #one of this loop gurantees the last position is alrdy the highest\n",
    "        if array[i] > array[i+1]:\n",
    "            temp = array[i]\n",
    "            array[i] = array [i+1]\n",
    "            array [i+1] = temp\n",
    "            swap = True\n",
    "    \n",
    "    top -= 1\n",
    "    "
   ]
  },
  {
   "cell_type": "code",
   "execution_count": 2,
   "metadata": {},
   "outputs": [
    {
     "name": "stdout",
     "output_type": "stream",
     "text": [
      "[2, 3, 4, 6, 8, 31, 67, 78, 213]\n"
     ]
    }
   ],
   "source": [
    "print(array)"
   ]
  }
 ],
 "metadata": {
  "kernelspec": {
   "display_name": "venv",
   "language": "python",
   "name": "python3"
  },
  "language_info": {
   "codemirror_mode": {
    "name": "ipython",
    "version": 3
   },
   "file_extension": ".py",
   "mimetype": "text/x-python",
   "name": "python",
   "nbconvert_exporter": "python",
   "pygments_lexer": "ipython3",
   "version": "3.13.2"
  }
 },
 "nbformat": 4,
 "nbformat_minor": 2
}
