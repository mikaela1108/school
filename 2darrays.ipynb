{
 "cells": [
  {
   "cell_type": "code",
   "execution_count": 40,
   "metadata": {},
   "outputs": [],
   "source": [
    "twod = [\n",
    "    [12,45,7,2],\n",
    "    [11,8,19,20],\n",
    "    [13,34,21,74]\n",
    "]"
   ]
  },
  {
   "cell_type": "code",
   "execution_count": 4,
   "metadata": {},
   "outputs": [
    {
     "data": {
      "text/plain": [
       "4"
      ]
     },
     "execution_count": 4,
     "metadata": {},
     "output_type": "execute_result"
    }
   ],
   "source": [
    "len(twod[0])"
   ]
  },
  {
   "cell_type": "code",
   "execution_count": 41,
   "metadata": {},
   "outputs": [],
   "source": [
    "column_totals = [0 for i in range(len(twod[0]))]\n",
    "column_high = [0 for i in range (len(twod[0]))]\n",
    "row_high = [0 for i in range (len(twod))]"
   ]
  },
  {
   "cell_type": "code",
   "execution_count": 42,
   "metadata": {},
   "outputs": [
    {
     "name": "stdout",
     "output_type": "stream",
     "text": [
      "column high are [13, 45, 21, 74]\n",
      "column totals are [36, 87, 47, 96]\n",
      "row high are [45, 20, 74]\n"
     ]
    }
   ],
   "source": [
    "for columns in range (len(twod[0])):\n",
    "    highestcolumn = 0\n",
    "    total = 0\n",
    "    for row in range (len(twod)):\n",
    "        if twod[row][columns] > highestcolumn:\n",
    "            highestcolumn = twod[row][columns]\n",
    "        if twod[row][columns] > row_high[row]:\n",
    "            row_high[row] = twod[row][columns]\n",
    "        total = total + twod[row][columns] \n",
    "    column_high[columns] = highestcolumn\n",
    "    column_totals[columns] = total\n",
    "\n",
    "print (f'column high are {column_high}')\n",
    "print (f'column totals are {column_totals}')\n",
    "print (f'row high are {row_high}')"
   ]
  },
  {
   "cell_type": "markdown",
   "metadata": {},
   "source": [
    "# sorting in 2d"
   ]
  },
  {
   "cell_type": "code",
   "execution_count": 43,
   "metadata": {},
   "outputs": [],
   "source": [
    "def sort_array(array):\n",
    "    for row in range(len(array)):\n",
    "        top = len(array[row]) - 1\n",
    "        swap = True\n",
    "        while swap == True:\n",
    "            swap = False\n",
    "            for i in range (top):\n",
    "                if array[row][i] > array[row][i+1]:\n",
    "                    temp = array[row][i]\n",
    "                    array[row][i] = array[row][i+1]\n",
    "                    array[row][i+1] = temp\n",
    "                    swap = True\n",
    "            top -= 1\n",
    "    "
   ]
  },
  {
   "cell_type": "code",
   "execution_count": 44,
   "metadata": {},
   "outputs": [],
   "source": [
    "sort_array(twod)"
   ]
  },
  {
   "cell_type": "code",
   "execution_count": 45,
   "metadata": {},
   "outputs": [
    {
     "name": "stdout",
     "output_type": "stream",
     "text": [
      "[[2, 7, 12, 45], [8, 11, 19, 20], [13, 21, 34, 74]]\n"
     ]
    }
   ],
   "source": [
    "print(twod)\n"
   ]
  },
  {
   "cell_type": "code",
   "execution_count": 58,
   "metadata": {},
   "outputs": [],
   "source": [
    "def binary_search(array,search):\n",
    "    for row in range(len(array)):\n",
    "        low = 0 \n",
    "        high = len(array[row]) - 1\n",
    "        found = False\n",
    "        while found == False:\n",
    "            mid =  (low + high) // 2\n",
    "            if array[row][mid] == search:\n",
    "                found = True\n",
    "                break\n",
    "            elif array[row][mid] > search:\n",
    "                high = mid - 1\n",
    "            else:\n",
    "                low = mid + 1\n",
    "            if low > high:\n",
    "                break\n",
    "        if found:\n",
    "            return 1\n",
    "\n",
    "    return -1"
   ]
  },
  {
   "cell_type": "code",
   "execution_count": 59,
   "metadata": {},
   "outputs": [
    {
     "data": {
      "text/plain": [
       "1"
      ]
     },
     "execution_count": 59,
     "metadata": {},
     "output_type": "execute_result"
    }
   ],
   "source": [
    "binary_search(twod,34)"
   ]
  },
  {
   "cell_type": "code",
   "execution_count": null,
   "metadata": {},
   "outputs": [],
   "source": []
  }
 ],
 "metadata": {
  "kernelspec": {
   "display_name": "venv",
   "language": "python",
   "name": "python3"
  },
  "language_info": {
   "codemirror_mode": {
    "name": "ipython",
    "version": 3
   },
   "file_extension": ".py",
   "mimetype": "text/x-python",
   "name": "python",
   "nbconvert_exporter": "python",
   "pygments_lexer": "ipython3",
   "version": "3.13.2"
  }
 },
 "nbformat": 4,
 "nbformat_minor": 2
}
