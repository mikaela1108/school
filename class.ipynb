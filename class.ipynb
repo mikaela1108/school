{
 "cells": [
  {
   "cell_type": "code",
   "execution_count": 9,
   "metadata": {},
   "outputs": [],
   "source": [
    "class person:\n",
    "    personcount = 0\n",
    "    def __init__(self,name,dob,gender):\n",
    "        self.__name = name # Instances Variable\n",
    "        self.__dob = dob\n",
    "        self.gender = gender\n",
    "        person.personcount += 1 # Class Varibale\n",
    "\n",
    "    #since the name and dob are private we need getter and setter\n",
    "\n",
    "    def getname(self):\n",
    "        return self.__name\n",
    "    \n",
    "    def getdob(self):\n",
    "        return self.__dob\n",
    "    \n",
    "    def display(self):\n",
    "        print(f'''\n",
    "name = {self.getname()}\n",
    "dob = {self.getdob()}\n",
    "gender = {self.gender}\n",
    "              ''')\n",
    "    \n",
    "    def setname(self,name):\n",
    "        self.__name = name\n",
    "        return self.__name\n",
    "    \n",
    "    def setdob(self,dob):\n",
    "        self.__dob = dob\n",
    "        return self.__dob\n",
    "    \n",
    "    def walk(self):\n",
    "        print('person is walking')\n",
    "\n",
    "    def talk(self):\n",
    "        print('person is talking')"
   ]
  },
  {
   "cell_type": "code",
   "execution_count": 10,
   "metadata": {},
   "outputs": [],
   "source": [
    "person1 = person('Mikaela','11 August 2007','Female')"
   ]
  },
  {
   "cell_type": "code",
   "execution_count": null,
   "metadata": {},
   "outputs": [
    {
     "name": "stdout",
     "output_type": "stream",
     "text": [
      "Mikaela\n"
     ]
    }
   ],
   "source": [
    "# since name is private you need a get name\n",
    "print(person1.getname())\n",
    "# this won't work as \n",
    "print(person1.__name)"
   ]
  },
  {
   "cell_type": "code",
   "execution_count": 11,
   "metadata": {},
   "outputs": [
    {
     "name": "stdout",
     "output_type": "stream",
     "text": [
      "\n",
      "name = Mikaela\n",
      "dob = 11 August 2007\n",
      "gender = Female\n",
      "              \n"
     ]
    }
   ],
   "source": [
    "person1.display()"
   ]
  },
  {
   "cell_type": "markdown",
   "metadata": {},
   "source": [
    "# polymorphism"
   ]
  },
  {
   "cell_type": "code",
   "execution_count": null,
   "metadata": {},
   "outputs": [],
   "source": [
    "class Teacher (person):\n",
    "    def __init__(self,name,dob,gender,salary):\n",
    "        super().__init__(name,dob,gender)\n",
    "        self.__salary = salary\n",
    "\n",
    "    def getsalary(self):\n",
    "        return self.__salary\n",
    "\n",
    " # here the function display exists alrdy in the person class, but we want to change it (polymorphism)\n",
    "\n",
    "    def display(self):\n",
    "        print(f'''\n",
    "name = {self.getname()}\n",
    "dob = {self.getdob()}\n",
    "gender = {self.gender}\n",
    "salary = {self.getsalary()}\n",
    "              ''')\n",
    "        "
   ]
  },
  {
   "cell_type": "code",
   "execution_count": 13,
   "metadata": {},
   "outputs": [],
   "source": [
    "teacher1 = Teacher('Khan','1 Jan 1990','Male','1000000')"
   ]
  },
  {
   "cell_type": "code",
   "execution_count": 14,
   "metadata": {},
   "outputs": [
    {
     "name": "stdout",
     "output_type": "stream",
     "text": [
      "\n",
      "name = Khan\n",
      "dob = 1 Jan 1990\n",
      "gender = Male\n",
      "salary = 1000000\n",
      "              \n"
     ]
    }
   ],
   "source": [
    "teacher1.display()"
   ]
  },
  {
   "cell_type": "markdown",
   "metadata": {},
   "source": [
    "# inheritance"
   ]
  },
  {
   "cell_type": "code",
   "execution_count": 21,
   "metadata": {},
   "outputs": [],
   "source": [
    "class book:\n",
    "    def __init__(self,title,author):\n",
    "        self.title = title\n",
    "        self.author = author\n",
    "\n",
    "class library:\n",
    "\n",
    "    bookcount = 0\n",
    "\n",
    "    def __init__(self,name,location):\n",
    "        self.name = name\n",
    "        self.location = location\n",
    "        self.books = []\n",
    "\n",
    "    def addbook(self,book):\n",
    "        self.books.append(book)\n",
    "        library.bookcount += 1\n",
    "        return 'book successfully added'\n",
    "    \n",
    "    def collection(self):\n",
    "        for book in self.books:\n",
    "            print(f'''\n",
    "library {self.name} has\n",
    "book title is {book.title}\n",
    "book author is {book.author}\n",
    "''')\n",
    "    "
   ]
  },
  {
   "cell_type": "code",
   "execution_count": 23,
   "metadata": {},
   "outputs": [
    {
     "name": "stdout",
     "output_type": "stream",
     "text": [
      "\n",
      "library BBS has\n",
      "book title is Harry Potter\n",
      "book author is JK Rowling\n",
      "\n",
      "\n",
      "library BBS has\n",
      "book title is Legend\n",
      "book author is Marie Lu\n",
      "\n"
     ]
    }
   ],
   "source": [
    "lib1 = library('BBS','Jakut')\n",
    "book1 = book('Harry Potter','JK Rowling')\n",
    "book2 = book('Legend','Marie Lu')\n",
    "lib1.addbook(book1)\n",
    "lib1.addbook(book2)\n",
    "lib1.collection()"
   ]
  },
  {
   "cell_type": "markdown",
   "metadata": {},
   "source": [
    "# online source"
   ]
  },
  {
   "cell_type": "code",
   "execution_count": 1,
   "metadata": {},
   "outputs": [
    {
     "name": "stdout",
     "output_type": "stream",
     "text": [
      "700\n"
     ]
    }
   ],
   "source": [
    "#how to create a class:\n",
    "\n",
    "class Item:\n",
    "    def calculate_total_price(self,x,y):\n",
    "        return x*y\n",
    "\n",
    "#how to create an instance of a class\n",
    "\n",
    "item1 = Item()\n",
    "\n",
    "#assign attributes\n",
    "\n",
    "item1.name = 'phone'\n",
    "item1.price = 100\n",
    "item1.quantity = 7\n",
    "\n",
    "# call out a method\n",
    "\n",
    "print(item1.calculate_total_price(item1.price,item1.quantity))"
   ]
  },
  {
   "cell_type": "code",
   "execution_count": 2,
   "metadata": {},
   "outputs": [],
   "source": [
    "# creating constructors and __init__\n",
    "\n",
    "class Item:\n",
    "    def __init__(self,name:str,price:float,quantity=0):\n",
    "        #make validation checks here\n",
    "        assert price >= 0\n",
    "        assert quantity >= 0\n",
    "\n",
    "        self.name = name\n",
    "        self.price = price\n",
    "        self.quantity = quantity\n",
    "\n",
    "    def calculate_total_price(self):\n",
    "        return self.price*self.quantity"
   ]
  },
  {
   "cell_type": "code",
   "execution_count": 4,
   "metadata": {},
   "outputs": [
    {
     "name": "stdout",
     "output_type": "stream",
     "text": [
      "700\n"
     ]
    }
   ],
   "source": [
    "#create instance \n",
    "item1 = Item('phone',100,7)\n",
    "print(item1.calculate_total_price())"
   ]
  }
 ],
 "metadata": {
  "kernelspec": {
   "display_name": "venv",
   "language": "python",
   "name": "python3"
  },
  "language_info": {
   "codemirror_mode": {
    "name": "ipython",
    "version": 3
   },
   "file_extension": ".py",
   "mimetype": "text/x-python",
   "name": "python",
   "nbconvert_exporter": "python",
   "pygments_lexer": "ipython3",
   "version": "3.13.2"
  }
 },
 "nbformat": 4,
 "nbformat_minor": 2
}
