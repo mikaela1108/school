{
 "cells": [
  {
   "cell_type": "code",
   "execution_count": null,
   "metadata": {},
   "outputs": [],
   "source": [
    "# in order for binary search to be done, the array must first be sorted"
   ]
  },
  {
   "cell_type": "code",
   "execution_count": 7,
   "metadata": {},
   "outputs": [
    {
     "name": "stdout",
     "output_type": "stream",
     "text": [
      "Item is found\n"
     ]
    }
   ],
   "source": [
    "array = [1, 2, 4, 8, 16, 32, 64, 128]\n",
    "\n",
    "low = 0\n",
    "high = len(array) - 1\n",
    "\n",
    "SearchElement = int(input('Enter the element you want to find'))\n",
    "found = False\n",
    "\n",
    "while found == False:\n",
    "    mid = (low+high)//2\n",
    "    if array[mid] == SearchElement:\n",
    "        found = True\n",
    "    elif array[mid] > SearchElement:\n",
    "        high = mid - 1\n",
    "    else:\n",
    "        low = mid + 1\n",
    "\n",
    "    if low > high:\n",
    "        break\n",
    "\n",
    "if found:\n",
    "    print('Item is found')\n",
    "else:\n",
    "    print('Item is not found')\n",
    "    \n"
   ]
  },
  {
   "cell_type": "markdown",
   "metadata": {},
   "source": [
    "# using recursion"
   ]
  },
  {
   "cell_type": "code",
   "execution_count": 13,
   "metadata": {},
   "outputs": [],
   "source": [
    "array = [1, 2, 4, 8, 16, 32, 64, 128]\n",
    "\n",
    "low = 0\n",
    "high = len(array) - 1\n",
    "\n",
    "SearchElement = 4\n",
    "\n",
    "def binarysearch(array,low,high,SearchElement):\n",
    "    if low > high:\n",
    "        return -1\n",
    "    mid = (low+high)//2\n",
    "    if array[mid] == SearchElement:\n",
    "        return 1\n",
    "    elif array[mid] > SearchElement:\n",
    "        high = mid - 1\n",
    "        return binarysearch(array,low,high,SearchElement)\n",
    "    else:\n",
    "        low = mid + 1\n",
    "        return binarysearch(array,low,high,SearchElement)\n",
    "        \n",
    "    "
   ]
  },
  {
   "cell_type": "code",
   "execution_count": 15,
   "metadata": {},
   "outputs": [
    {
     "data": {
      "text/plain": [
       "1"
      ]
     },
     "execution_count": 15,
     "metadata": {},
     "output_type": "execute_result"
    }
   ],
   "source": [
    "binarysearch(array,0,7,4)"
   ]
  },
  {
   "cell_type": "code",
   "execution_count": null,
   "metadata": {},
   "outputs": [],
   "source": []
  }
 ],
 "metadata": {
  "kernelspec": {
   "display_name": "venv",
   "language": "python",
   "name": "python3"
  },
  "language_info": {
   "codemirror_mode": {
    "name": "ipython",
    "version": 3
   },
   "file_extension": ".py",
   "mimetype": "text/x-python",
   "name": "python",
   "nbconvert_exporter": "python",
   "pygments_lexer": "ipython3",
   "version": "3.13.2"
  }
 },
 "nbformat": 4,
 "nbformat_minor": 2
}
