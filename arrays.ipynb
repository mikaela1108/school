{
 "cells": [
  {
   "cell_type": "code",
   "execution_count": null,
   "metadata": {},
   "outputs": [],
   "source": [
    "myArr = [None for i in range(10)]\n",
    "\n",
    "# myArr = [None]*10 "
   ]
  },
  {
   "cell_type": "code",
   "execution_count": 3,
   "metadata": {},
   "outputs": [
    {
     "name": "stdout",
     "output_type": "stream",
     "text": [
      "[1, 2, 3, 4, 5, 6, 7, 8, 9, 10]\n"
     ]
    }
   ],
   "source": [
    "for i in range (len(myArr)):\n",
    "    myArr[i] = int(input('Enter a number'))\n",
    "\n",
    "# int ensures that it is an integer that is inputted\n",
    "\n",
    "print(myArr)"
   ]
  },
  {
   "cell_type": "code",
   "execution_count": null,
   "metadata": {},
   "outputs": [],
   "source": [
    "# DECLARE myArr : ARRAY [0:9] OF INTEGER\n",
    "\n",
    "# FOR i <-- O TO 9\n",
    "#     OUTPUT 'enter a number'\n",
    "#     INPUT number\n",
    "#     myArr [i] <-- number\n",
    "# NEXT i\n",
    "\n",
    "# FOR i <-- 0 TO 9\n",
    "#     OUTPUT myArr[i]\n",
    "# NEXT i"
   ]
  }
 ],
 "metadata": {
  "kernelspec": {
   "display_name": "venv",
   "language": "python",
   "name": "python3"
  },
  "language_info": {
   "codemirror_mode": {
    "name": "ipython",
    "version": 3
   },
   "file_extension": ".py",
   "mimetype": "text/x-python",
   "name": "python",
   "nbconvert_exporter": "python",
   "pygments_lexer": "ipython3",
   "version": "3.13.2"
  }
 },
 "nbformat": 4,
 "nbformat_minor": 2
}
