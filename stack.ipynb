{
 "cells": [
  {
   "cell_type": "code",
   "execution_count": 7,
   "metadata": {},
   "outputs": [],
   "source": [
    "stack = [None for i in range(5)]\n",
    "\n",
    "bottom = 0\n",
    "top = -1\n",
    "\n",
    "def push(stack,item):\n",
    "    global top\n",
    "    if top == len(stack)-1:\n",
    "        return -1\n",
    "    else:\n",
    "        top += 1\n",
    "        stack[top] = item\n",
    "\n",
    "def pop(stack):\n",
    "    global top\n",
    "    if top == -1:\n",
    "        return -1\n",
    "    else:\n",
    "        value = stack[top]\n",
    "        print(f'{value} has been removed')\n",
    "        top -= 1\n",
    "        \n"
   ]
  },
  {
   "cell_type": "code",
   "execution_count": 8,
   "metadata": {},
   "outputs": [
    {
     "data": {
      "text/plain": [
       "-1"
      ]
     },
     "execution_count": 8,
     "metadata": {},
     "output_type": "execute_result"
    }
   ],
   "source": [
    "push(stack,1)\n",
    "push(stack,2)\n",
    "push(stack,3)\n",
    "push(stack,4)\n",
    "push(stack,5)\n",
    "push(stack,6)"
   ]
  },
  {
   "cell_type": "code",
   "execution_count": 9,
   "metadata": {},
   "outputs": [
    {
     "name": "stdout",
     "output_type": "stream",
     "text": [
      "[1, 2, 3, 4, 5]\n"
     ]
    }
   ],
   "source": [
    "print(stack)"
   ]
  },
  {
   "cell_type": "code",
   "execution_count": 10,
   "metadata": {},
   "outputs": [
    {
     "name": "stdout",
     "output_type": "stream",
     "text": [
      "5 has been removed\n"
     ]
    }
   ],
   "source": [
    "pop(stack)"
   ]
  },
  {
   "cell_type": "code",
   "execution_count": 12,
   "metadata": {},
   "outputs": [],
   "source": [
    "def display(stack):\n",
    "    current = top \n",
    "    while current >= 0:\n",
    "        print(stack[current])\n",
    "        current -= 1"
   ]
  },
  {
   "cell_type": "code",
   "execution_count": 13,
   "metadata": {},
   "outputs": [
    {
     "name": "stdout",
     "output_type": "stream",
     "text": [
      "4\n",
      "3\n",
      "2\n",
      "1\n"
     ]
    }
   ],
   "source": [
    "display(stack)"
   ]
  }
 ],
 "metadata": {
  "kernelspec": {
   "display_name": "venv",
   "language": "python",
   "name": "python3"
  },
  "language_info": {
   "codemirror_mode": {
    "name": "ipython",
    "version": 3
   },
   "file_extension": ".py",
   "mimetype": "text/x-python",
   "name": "python",
   "nbconvert_exporter": "python",
   "pygments_lexer": "ipython3",
   "version": "3.13.2"
  }
 },
 "nbformat": 4,
 "nbformat_minor": 2
}
