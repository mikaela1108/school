{
 "cells": [
  {
   "cell_type": "code",
   "execution_count": 10,
   "metadata": {},
   "outputs": [],
   "source": [
    "queue = [None for i in range(5)]\n",
    "front = 0\n",
    "rear = -1\n",
    "queuelength = 0\n",
    "\n",
    "def enqueue(queue,item):\n",
    "    global front,rear,queuelength\n",
    "    if queuelength == len(queue):\n",
    "        return -1\n",
    "    elif rear == (len(queue)-1):\n",
    "        rear = 0\n",
    "        queue[rear] = item\n",
    "        queuelength += 1\n",
    "        return 1\n",
    "    else:\n",
    "        rear += 1\n",
    "        queue[rear] = item\n",
    "        queuelength += 1\n",
    "        return 1\n",
    "\n",
    "def dequeue(queue):\n",
    "    global front,rear,queuelength\n",
    "    if queuelength == 0:\n",
    "        return -1\n",
    "    elif front == (len(queue)-1):\n",
    "        itemremoved = queue[front]\n",
    "        front = 0\n",
    "        queuelength -= 1\n",
    "        return itemremoved\n",
    "    else:\n",
    "        itemremoved = queue[front]\n",
    "        front += 1\n",
    "        queuelength -= 1\n",
    "        return itemremoved\n",
    "\n",
    "def display(queue):\n",
    "    global rear,front,queuelength\n",
    "\n",
    "    if front == -1:\n",
    "        return -1\n",
    "\n",
    "    current = front\n",
    "    while True:\n",
    "        print(queue[current])\n",
    "\n",
    "        if current == rear:\n",
    "            break\n",
    "\n",
    "        elif current == (len(queue)-1):\n",
    "            current = 0\n",
    "        else:\n",
    "            current += 1\n"
   ]
  },
  {
   "cell_type": "code",
   "execution_count": 11,
   "metadata": {},
   "outputs": [
    {
     "data": {
      "text/plain": [
       "1"
      ]
     },
     "execution_count": 11,
     "metadata": {},
     "output_type": "execute_result"
    }
   ],
   "source": [
    "enqueue(queue,1)\n",
    "enqueue(queue,2)\n",
    "enqueue(queue,3)\n",
    "enqueue(queue,4)\n",
    "enqueue(queue,5)"
   ]
  },
  {
   "cell_type": "code",
   "execution_count": 12,
   "metadata": {},
   "outputs": [
    {
     "name": "stdout",
     "output_type": "stream",
     "text": [
      "1\n",
      "2\n",
      "3\n",
      "4\n",
      "5\n"
     ]
    }
   ],
   "source": [
    "display(queue)"
   ]
  },
  {
   "cell_type": "code",
   "execution_count": 13,
   "metadata": {},
   "outputs": [
    {
     "data": {
      "text/plain": [
       "1"
      ]
     },
     "execution_count": 13,
     "metadata": {},
     "output_type": "execute_result"
    }
   ],
   "source": [
    "dequeue(queue)"
   ]
  },
  {
   "cell_type": "code",
   "execution_count": 14,
   "metadata": {},
   "outputs": [
    {
     "name": "stdout",
     "output_type": "stream",
     "text": [
      "2\n",
      "3\n",
      "4\n",
      "5\n"
     ]
    }
   ],
   "source": [
    "display(queue)"
   ]
  }
 ],
 "metadata": {
  "kernelspec": {
   "display_name": "venv",
   "language": "python",
   "name": "python3"
  },
  "language_info": {
   "codemirror_mode": {
    "name": "ipython",
    "version": 3
   },
   "file_extension": ".py",
   "mimetype": "text/x-python",
   "name": "python",
   "nbconvert_exporter": "python",
   "pygments_lexer": "ipython3",
   "version": "3.13.2"
  }
 },
 "nbformat": 4,
 "nbformat_minor": 2
}
