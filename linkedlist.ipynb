{
 "cells": [
  {
   "cell_type": "code",
   "execution_count": null,
   "metadata": {},
   "outputs": [],
   "source": [
    "data = [None for i in range(5)]\n",
    "pointer = [None for i in range(5)]\n",
    "\n",
    "for i in range(len(pointer)-1):\n",
    "    pointer[i] = i+1\n",
    "pointer[len(pointer)-1] = -1\n",
    "\n",
    "heappointer = 0\n",
    "startpointer = -1\n",
    "\n",
    "def add(item):\n",
    "    global heappointer,startpointer\n",
    "    if heappointer == -1:\n",
    "        return -1\n",
    "    else:\n",
    "        current = heappointer\n",
    "        heappointer = pointer[current]\n",
    "        temp = startpointer\n",
    "        pointer[current] = temp\n",
    "        data[current] = item\n",
    "        startpointer = current\n",
    "        return 1\n",
    "\n",
    "def search(item):\n",
    "    global heappointer,startpointer\n",
    "    current = startpointer\n",
    "    found = False\n",
    "    while current != -1:\n",
    "        if data[current] == item:\n",
    "            found = True\n",
    "            return current\n",
    "        else:\n",
    "            current = pointer[current]\n",
    "    \n",
    "    if not found:\n",
    "        return -1\n",
    "\n",
    "def delete(item):\n",
    "    global heappointer,startpointer\n",
    "    if startpointer == -1:\n",
    "        return -1\n",
    "    else:\n",
    "        current = search(item)\n",
    "        if current == -1:\n",
    "            return -1\n",
    "        temp = pointer[current]\n",
    "        lastnode = startpointer\n",
    "        flag = False\n",
    "        while flag == False:\n",
    "            if lastnode == current:\n",
    "                 flag = True\n",
    "            else:\n",
    "                lastnode = pointer[lastnode]\n",
    "        pointer[lastnode] = temp\n",
    "        temp = heappointer\n",
    "        heappointer = current\n",
    "        pointer[current] = temp\n",
    "        return 1\n",
    "\n"
   ]
  },
  {
   "cell_type": "code",
   "execution_count": 2,
   "metadata": {},
   "outputs": [
    {
     "data": {
      "text/plain": [
       "1"
      ]
     },
     "execution_count": 2,
     "metadata": {},
     "output_type": "execute_result"
    }
   ],
   "source": [
    "add(1)\n",
    "add(2)\n",
    "add(3)\n",
    "add(4)\n",
    "add(5)"
   ]
  },
  {
   "cell_type": "code",
   "execution_count": 3,
   "metadata": {},
   "outputs": [
    {
     "data": {
      "text/plain": [
       "-1"
      ]
     },
     "execution_count": 3,
     "metadata": {},
     "output_type": "execute_result"
    }
   ],
   "source": [
    "add(6)"
   ]
  },
  {
   "cell_type": "code",
   "execution_count": 8,
   "metadata": {},
   "outputs": [
    {
     "name": "stdout",
     "output_type": "stream",
     "text": [
      "4\n",
      "4\n",
      "[-1, 0, 1, -1, 3]\n",
      "[1, 2, 3, 4, 5]\n"
     ]
    }
   ],
   "source": [
    "print(heappointer)\n",
    "print(startpointer)\n",
    "print(pointer)\n",
    "print(data)"
   ]
  },
  {
   "cell_type": "code",
   "execution_count": 5,
   "metadata": {},
   "outputs": [
    {
     "data": {
      "text/plain": [
       "4"
      ]
     },
     "execution_count": 5,
     "metadata": {},
     "output_type": "execute_result"
    }
   ],
   "source": [
    "search(5)"
   ]
  },
  {
   "cell_type": "code",
   "execution_count": 7,
   "metadata": {},
   "outputs": [
    {
     "data": {
      "text/plain": [
       "1"
      ]
     },
     "execution_count": 7,
     "metadata": {},
     "output_type": "execute_result"
    }
   ],
   "source": [
    "delete(5)"
   ]
  }
 ],
 "metadata": {
  "kernelspec": {
   "display_name": "venv",
   "language": "python",
   "name": "python3"
  },
  "language_info": {
   "codemirror_mode": {
    "name": "ipython",
    "version": 3
   },
   "file_extension": ".py",
   "mimetype": "text/x-python",
   "name": "python",
   "nbconvert_exporter": "python",
   "pygments_lexer": "ipython3",
   "version": "3.13.2"
  }
 },
 "nbformat": 4,
 "nbformat_minor": 2
}
