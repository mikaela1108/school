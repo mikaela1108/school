{
 "cells": [
  {
   "cell_type": "markdown",
   "metadata": {},
   "source": [
    "# stack to queue"
   ]
  },
  {
   "cell_type": "code",
   "execution_count": 11,
   "metadata": {},
   "outputs": [],
   "source": [
    "def push(stack,item):\n",
    "    global top\n",
    "    if top == len(stack)-1:\n",
    "        return -1\n",
    "    else:\n",
    "        top += 1\n",
    "        stack[top] = item\n",
    "\n",
    "def pop(stack):\n",
    "    global top\n",
    "    if top == -1:\n",
    "        return -1\n",
    "    else:\n",
    "        value = stack[top]\n",
    "        top -= 1\n",
    "        return value\n",
    "        "
   ]
  },
  {
   "cell_type": "code",
   "execution_count": 12,
   "metadata": {},
   "outputs": [],
   "source": [
    "stack = [None for i in range(5)]\n",
    "\n",
    "bottom = 0\n",
    "top = -1\n",
    "\n",
    "push(stack,1)\n",
    "push(stack,2)\n",
    "push(stack,3)\n",
    "push(stack,4)\n",
    "push(stack,5)"
   ]
  },
  {
   "cell_type": "code",
   "execution_count": 13,
   "metadata": {},
   "outputs": [],
   "source": [
    "queue = [None for i in range(5)]\n",
    "front = 0\n",
    "rear = -1\n",
    "queuelength = 0\n",
    "\n",
    "def enqueue(queue,item):\n",
    "    global front,rear,queuelength\n",
    "    if queuelength == len(queue):\n",
    "        return -1\n",
    "    elif rear == (len(queue)-1):\n",
    "        rear = 0\n",
    "        queue[rear] = item\n",
    "        queuelength += 1\n",
    "        return 1\n",
    "    else:\n",
    "        rear += 1\n",
    "        queue[rear] = item\n",
    "        queuelength += 1\n",
    "        return 1\n",
    "\n",
    "def dequeue(queue):\n",
    "    global front,rear,queuelength\n",
    "    if queuelength == 0:\n",
    "        return -1\n",
    "    elif front == (len(queue)-1):\n",
    "        itemremoved = queue[front]\n",
    "        front = 0\n",
    "        queuelength -= 1\n",
    "        return itemremoved\n",
    "    else:\n",
    "        itemremoved = queue[front]\n",
    "        front += 1\n",
    "        queuelength -= 1\n",
    "        return itemremoved\n",
    "\n",
    "def display(queue):\n",
    "    global rear,front,queuelength\n",
    "\n",
    "    if front == -1:\n",
    "        return -1\n",
    "\n",
    "    current = front\n",
    "    while True:\n",
    "        print(queue[current])\n",
    "\n",
    "        if current == rear:\n",
    "            break\n",
    "\n",
    "        elif current == (len(queue)-1):\n",
    "            current = 0\n",
    "        else:\n",
    "            current += 1\n"
   ]
  },
  {
   "cell_type": "code",
   "execution_count": 14,
   "metadata": {},
   "outputs": [
    {
     "name": "stdout",
     "output_type": "stream",
     "text": [
      "[1, 2, 3, 4, 5]\n"
     ]
    }
   ],
   "source": [
    "print(stack)"
   ]
  },
  {
   "cell_type": "code",
   "execution_count": 15,
   "metadata": {},
   "outputs": [],
   "source": [
    "for i in range(len(stack)):\n",
    "    item = pop(stack)\n",
    "    enqueue (queue,item)"
   ]
  },
  {
   "cell_type": "code",
   "execution_count": 16,
   "metadata": {},
   "outputs": [
    {
     "name": "stdout",
     "output_type": "stream",
     "text": [
      "5\n",
      "4\n",
      "3\n",
      "2\n",
      "1\n"
     ]
    }
   ],
   "source": [
    "display(queue)"
   ]
  },
  {
   "cell_type": "markdown",
   "metadata": {},
   "source": [
    "# stack to linked list"
   ]
  },
  {
   "cell_type": "code",
   "execution_count": 33,
   "metadata": {},
   "outputs": [],
   "source": [
    "def push(stack,item):\n",
    "    global top\n",
    "    if top == len(stack)-1:\n",
    "        return -1\n",
    "    else:\n",
    "        top += 1\n",
    "        stack[top] = item\n",
    "\n",
    "def pop(stack):\n",
    "    global top\n",
    "    if top == -1:\n",
    "        return -1\n",
    "    else:\n",
    "        value = stack[top]\n",
    "        top -= 1\n",
    "        return value"
   ]
  },
  {
   "cell_type": "code",
   "execution_count": 34,
   "metadata": {},
   "outputs": [],
   "source": [
    "stack = [None for i in range(5)]\n",
    "\n",
    "bottom = 0\n",
    "top = -1\n",
    "\n",
    "push(stack,1)\n",
    "push(stack,2)\n",
    "push(stack,3)\n",
    "push(stack,4)\n",
    "push(stack,5)"
   ]
  },
  {
   "cell_type": "code",
   "execution_count": 35,
   "metadata": {},
   "outputs": [],
   "source": [
    "data = [None for i in range(5)]\n",
    "pointer = [None for i in range(5)]\n",
    "\n",
    "for i in range(len(pointer)-1):\n",
    "    pointer[i] = i+1\n",
    "pointer[len(pointer)-1] = -1\n",
    "\n",
    "heappointer = 0\n",
    "startpointer = -1\n",
    "\n",
    "def add(item):\n",
    "    global heappointer,startpointer\n",
    "    if heappointer == -1:\n",
    "        return -1\n",
    "    else:\n",
    "        current = heappointer\n",
    "        heappointer = pointer[current]\n",
    "        temp = startpointer\n",
    "        pointer[current] = temp\n",
    "        data[current] = item\n",
    "        startpointer = current\n",
    "        return 1\n",
    "\n",
    "def search(item):\n",
    "    global heappointer,startpointer\n",
    "    current = startpointer\n",
    "    found = False\n",
    "    while current != -1:\n",
    "        if data[current] == item:\n",
    "            found = True\n",
    "            return current\n",
    "        else:\n",
    "            current = pointer[current]\n",
    "    \n",
    "    if not found:\n",
    "        return -1\n",
    "\n",
    "def delete(item):\n",
    "    global heappointer,startpointer\n",
    "    if startpointer == -1:\n",
    "        return -1\n",
    "    else:\n",
    "        current = search(item)\n",
    "        if current == -1:\n",
    "            return -1\n",
    "        temp = pointer[current]\n",
    "        lastnode = startpointer\n",
    "        flag = False\n",
    "        while flag == False:\n",
    "            if lastnode == current:\n",
    "                 flag = True\n",
    "            else:\n",
    "                lastnode = pointer[lastnode]\n",
    "        pointer[lastnode] = temp\n",
    "        temp = heappointer\n",
    "        heappointer = current\n",
    "        pointer[current] = temp\n",
    "        return 1"
   ]
  },
  {
   "cell_type": "code",
   "execution_count": 36,
   "metadata": {},
   "outputs": [],
   "source": [
    "for i in range(5):\n",
    "    x = pop(stack)\n",
    "    add(x)"
   ]
  },
  {
   "cell_type": "code",
   "execution_count": 37,
   "metadata": {},
   "outputs": [
    {
     "name": "stdout",
     "output_type": "stream",
     "text": [
      "[5, 4, 3, 2, 1]\n",
      "[-1, 0, 1, 2, 3]\n"
     ]
    }
   ],
   "source": [
    "print(data)\n",
    "print(pointer)"
   ]
  },
  {
   "cell_type": "markdown",
   "metadata": {},
   "source": [
    "# linked list to stack"
   ]
  },
  {
   "cell_type": "code",
   "execution_count": 44,
   "metadata": {},
   "outputs": [],
   "source": [
    "data = [None for i in range(5)]\n",
    "pointer = [None for i in range(5)]\n",
    "\n",
    "for i in range(len(pointer)-1):\n",
    "    pointer[i] = i+1\n",
    "pointer[len(pointer)-1] = -1\n",
    "\n",
    "heappointer = 0\n",
    "startpointer = -1\n",
    "\n",
    "def add(item):\n",
    "    global heappointer,startpointer\n",
    "    if heappointer == -1:\n",
    "        return -1\n",
    "    else:\n",
    "        current = heappointer\n",
    "        heappointer = pointer[current]\n",
    "        temp = startpointer\n",
    "        pointer[current] = temp\n",
    "        data[current] = item\n",
    "        startpointer = current\n",
    "        return 1\n",
    "\n",
    "def search(item):\n",
    "    global heappointer,startpointer\n",
    "    current = startpointer\n",
    "    found = False\n",
    "    while current != -1:\n",
    "        if data[current] == item:\n",
    "            found = True\n",
    "            return current\n",
    "        else:\n",
    "            current = pointer[current]\n",
    "    \n",
    "    if not found:\n",
    "        return -1\n",
    "\n",
    "def delete(item):\n",
    "    global heappointer,startpointer\n",
    "    if startpointer == -1:\n",
    "        return -1\n",
    "    else:\n",
    "        current = search(item)\n",
    "        if current == -1:\n",
    "            return -1\n",
    "        temp = pointer[current]\n",
    "        lastnode = startpointer\n",
    "        flag = False\n",
    "        while flag == False:\n",
    "            if lastnode == current:\n",
    "                 flag = True\n",
    "            else:\n",
    "                lastnode = pointer[lastnode]\n",
    "        pointer[lastnode] = temp\n",
    "        temp = heappointer\n",
    "        heappointer = current\n",
    "        pointer[current] = temp\n",
    "        return 1\n",
    "    \n",
    "def transfering():\n",
    "    global startpointer\n",
    "    current = startpointer\n",
    "    if current == -1:\n",
    "        return -1\n",
    "    else:\n",
    "        value = data[current]\n",
    "        points = pointer[current]\n",
    "        startpointer = points\n",
    "        return value"
   ]
  },
  {
   "cell_type": "code",
   "execution_count": 45,
   "metadata": {},
   "outputs": [],
   "source": [
    "stack = [None for i in range(5)]\n",
    "\n",
    "bottom = 0\n",
    "top = -1\n",
    "\n",
    "def push(stack,item):\n",
    "    global top\n",
    "    if top == len(stack)-1:\n",
    "        return -1\n",
    "    else:\n",
    "        top += 1\n",
    "        stack[top] = item\n"
   ]
  },
  {
   "cell_type": "code",
   "execution_count": 46,
   "metadata": {},
   "outputs": [
    {
     "data": {
      "text/plain": [
       "1"
      ]
     },
     "execution_count": 46,
     "metadata": {},
     "output_type": "execute_result"
    }
   ],
   "source": [
    "add(1)\n",
    "add(2)\n",
    "add(3)\n",
    "add(4)\n",
    "add(5)"
   ]
  },
  {
   "cell_type": "code",
   "execution_count": 47,
   "metadata": {},
   "outputs": [
    {
     "name": "stdout",
     "output_type": "stream",
     "text": [
      "[1, 2, 3, 4, 5]\n"
     ]
    }
   ],
   "source": [
    "print(data)"
   ]
  },
  {
   "cell_type": "code",
   "execution_count": 48,
   "metadata": {},
   "outputs": [],
   "source": [
    "for i in range (5):\n",
    "    x = transfering()\n",
    "    push(stack,x)"
   ]
  },
  {
   "cell_type": "code",
   "execution_count": 49,
   "metadata": {},
   "outputs": [
    {
     "name": "stdout",
     "output_type": "stream",
     "text": [
      "[5, 4, 3, 2, 1]\n"
     ]
    }
   ],
   "source": [
    "print(stack)"
   ]
  },
  {
   "cell_type": "markdown",
   "metadata": {},
   "source": [
    "# queue to binary tree"
   ]
  },
  {
   "cell_type": "code",
   "execution_count": 51,
   "metadata": {},
   "outputs": [],
   "source": [
    "queue = [None for i in range(5)]\n",
    "front = 0\n",
    "rear = -1\n",
    "queuelength = 0\n",
    "\n",
    "def enqueue(queue,item):\n",
    "    global front,rear,queuelength\n",
    "    if queuelength == len(queue):\n",
    "        return -1\n",
    "    elif rear == (len(queue)-1):\n",
    "        rear = 0\n",
    "        queue[rear] = item\n",
    "        queuelength += 1\n",
    "        return 1\n",
    "    else:\n",
    "        rear += 1\n",
    "        queue[rear] = item\n",
    "        queuelength += 1\n",
    "        return 1\n",
    "\n",
    "def dequeue(queue):\n",
    "    global front,rear,queuelength\n",
    "    if queuelength == 0:\n",
    "        return -1\n",
    "    elif front == (len(queue)-1):\n",
    "        itemremoved = queue[front]\n",
    "        front = 0\n",
    "        queuelength -= 1\n",
    "        return itemremoved\n",
    "    else:\n",
    "        itemremoved = queue[front]\n",
    "        front += 1\n",
    "        queuelength -= 1\n",
    "        return itemremoved"
   ]
  },
  {
   "cell_type": "code",
   "execution_count": 52,
   "metadata": {},
   "outputs": [
    {
     "data": {
      "text/plain": [
       "1"
      ]
     },
     "execution_count": 52,
     "metadata": {},
     "output_type": "execute_result"
    }
   ],
   "source": [
    "enqueue(queue,100)\n",
    "enqueue(queue,1)\n",
    "enqueue(queue,23)\n",
    "enqueue(queue,40)\n",
    "enqueue(queue,9)"
   ]
  },
  {
   "cell_type": "code",
   "execution_count": 53,
   "metadata": {},
   "outputs": [],
   "source": [
    "tree = [[-1,i+1,-1] if i<4 else [-1,-1,-1] for i in range(5)]\n",
    "\n",
    "root = -1\n",
    "heap = 0\n",
    "\n",
    "def add(item):\n",
    "    global root,heap\n",
    "    if heap == -1:\n",
    "        return -1\n",
    "    elif root == -1:\n",
    "        root = heap\n",
    "        heap = tree[root][1]\n",
    "        tree[root][1] = item\n",
    "        return 1\n",
    "    else:\n",
    "        nextheap = tree[heap][1]\n",
    "        tree[heap][1] = item\n",
    "        current = root\n",
    "        while current != -1:\n",
    "            if item > tree[current][1]:\n",
    "                last = current\n",
    "                current = tree[current][2]\n",
    "            else:\n",
    "                last = current\n",
    "                current = tree[current][0]\n",
    "        if tree[last][1] > item:\n",
    "            tree[last][0] = heap\n",
    "        else:\n",
    "            tree[last][2] = heap\n",
    "        heap = nextheap\n",
    "        return 1\n",
    "    \n",
    "def search(item):\n",
    "    global heap,root\n",
    "    if root == -1:\n",
    "        return -1\n",
    "    current = root\n",
    "    found = False\n",
    "    while current != -1 and found == False:\n",
    "        if tree[current][1] == item:\n",
    "            found = True\n",
    "            return current\n",
    "        elif item > tree[current][1]:\n",
    "            current = tree[current][2]\n",
    "        else:\n",
    "            current = tree[current][0]\n"
   ]
  },
  {
   "cell_type": "code",
   "execution_count": 54,
   "metadata": {},
   "outputs": [],
   "source": [
    "for i in range(5):\n",
    "    x = dequeue(queue)\n",
    "    add(x)"
   ]
  },
  {
   "cell_type": "code",
   "execution_count": 55,
   "metadata": {},
   "outputs": [
    {
     "name": "stdout",
     "output_type": "stream",
     "text": [
      "[[1, 100, -1], [-1, 1, 2], [4, 23, 3], [-1, 40, -1], [-1, 9, -1]]\n"
     ]
    }
   ],
   "source": [
    "print(tree)"
   ]
  },
  {
   "cell_type": "code",
   "execution_count": 56,
   "metadata": {},
   "outputs": [],
   "source": [
    "def inorder_traversal(root):\n",
    "    if root == -1:\n",
    "        return\n",
    "    \n",
    "    inorder_traversal(tree[root][0])\n",
    "\n",
    "    print(tree[root][1], end=' ')\n",
    "\n",
    "    inorder_traversal(tree[root][2])"
   ]
  },
  {
   "cell_type": "code",
   "execution_count": 58,
   "metadata": {},
   "outputs": [
    {
     "name": "stdout",
     "output_type": "stream",
     "text": [
      "1 9 23 40 100 "
     ]
    }
   ],
   "source": [
    "inorder_traversal(root)"
   ]
  },
  {
   "cell_type": "code",
   "execution_count": null,
   "metadata": {},
   "outputs": [],
   "source": []
  }
 ],
 "metadata": {
  "kernelspec": {
   "display_name": "venv",
   "language": "python",
   "name": "python3"
  },
  "language_info": {
   "codemirror_mode": {
    "name": "ipython",
    "version": 3
   },
   "file_extension": ".py",
   "mimetype": "text/x-python",
   "name": "python",
   "nbconvert_exporter": "python",
   "pygments_lexer": "ipython3",
   "version": "3.13.2"
  }
 },
 "nbformat": 4,
 "nbformat_minor": 2
}
