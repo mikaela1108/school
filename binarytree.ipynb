{
 "cells": [
  {
   "cell_type": "code",
   "execution_count": 17,
   "metadata": {},
   "outputs": [],
   "source": [
    "tree = [[-1,i+1,-1] if i<9 else [-1,-1,-1] for i in range(10)]\n",
    "\n",
    "# the data initially holds the pointers to the next "
   ]
  },
  {
   "cell_type": "code",
   "execution_count": 18,
   "metadata": {},
   "outputs": [
    {
     "name": "stdout",
     "output_type": "stream",
     "text": [
      "[[-1, 1, -1], [-1, 2, -1], [-1, 3, -1], [-1, 4, -1], [-1, 5, -1], [-1, 6, -1], [-1, 7, -1], [-1, 8, -1], [-1, 9, -1], [-1, -1, -1]]\n"
     ]
    }
   ],
   "source": [
    "print(tree)"
   ]
  },
  {
   "cell_type": "code",
   "execution_count": 19,
   "metadata": {},
   "outputs": [],
   "source": [
    "root = -1\n",
    "heap = 0\n",
    "\n",
    "def add(item):\n",
    "    global root,heap\n",
    "    if heap == -1:\n",
    "        return -1\n",
    "    elif root == -1:\n",
    "        root = heap\n",
    "        heap = tree[root][1]\n",
    "        tree[root][1] = item\n",
    "        return 1\n",
    "    else:\n",
    "        nextheap = tree[heap][1]\n",
    "        tree[heap][1] = item\n",
    "        current = root\n",
    "        while current != -1:\n",
    "            if item > tree[current][1]:\n",
    "                last = current\n",
    "                current = tree[current][2]\n",
    "            else:\n",
    "                last = current\n",
    "                current = tree[current][0]\n",
    "        if tree[last][1] > item:\n",
    "            tree[last][0] = heap\n",
    "        else:\n",
    "            tree[last][2] = heap\n",
    "        heap = nextheap\n",
    "        return 1\n",
    "    \n",
    "def search(item):\n",
    "    global heap,root\n",
    "    if root == -1:\n",
    "        return -1\n",
    "    current = root\n",
    "    found = False\n",
    "    while current != -1 and found == False:\n",
    "        if tree[current][1] == item:\n",
    "            found = True\n",
    "            return current\n",
    "        elif item > tree[current][1]:\n",
    "            current = tree[current][2]\n",
    "        else:\n",
    "            current = tree[current][0]\n"
   ]
  },
  {
   "cell_type": "code",
   "execution_count": null,
   "metadata": {},
   "outputs": [
    {
     "data": {
      "text/plain": [
       "1"
      ]
     },
     "execution_count": 20,
     "metadata": {},
     "output_type": "execute_result"
    }
   ],
   "source": [
    "add(2)\n",
    "add(9)\n",
    "add(3)\n",
    "add(10)\n",
    "add(100)\n",
    "add(99)\n",
    "add(78)\n",
    "add(34)\n",
    "add(98)\n",
    "add(78)"
   ]
  },
  {
   "cell_type": "code",
   "execution_count": 30,
   "metadata": {},
   "outputs": [
    {
     "data": {
      "text/plain": [
       "-1"
      ]
     },
     "execution_count": 30,
     "metadata": {},
     "output_type": "execute_result"
    }
   ],
   "source": [
    "add(1)"
   ]
  },
  {
   "cell_type": "code",
   "execution_count": 32,
   "metadata": {},
   "outputs": [],
   "source": [
    "def inorder_traversal(root):\n",
    "    if root == -1:\n",
    "        return\n",
    "    \n",
    "    inorder_traversal(tree[root][0])\n",
    "\n",
    "    print(tree[root][1], end=' ')\n",
    "\n",
    "    inorder_traversal(tree[root][2])"
   ]
  },
  {
   "cell_type": "code",
   "execution_count": 33,
   "metadata": {},
   "outputs": [
    {
     "name": "stdout",
     "output_type": "stream",
     "text": [
      "2 3 9 10 34 78 78 98 99 100 "
     ]
    }
   ],
   "source": [
    "inorder_traversal(root)"
   ]
  },
  {
   "cell_type": "code",
   "execution_count": 34,
   "metadata": {},
   "outputs": [],
   "source": [
    "def postorder(root):\n",
    "    if root == -1:\n",
    "        return\n",
    "    \n",
    "    postorder(tree[root][0])\n",
    "\n",
    "    postorder(tree[root][2])\n",
    "\n",
    "    print(tree[root][1])"
   ]
  },
  {
   "cell_type": "code",
   "execution_count": 35,
   "metadata": {},
   "outputs": [
    {
     "name": "stdout",
     "output_type": "stream",
     "text": [
      "3\n",
      "78\n",
      "34\n",
      "98\n",
      "78\n",
      "99\n",
      "100\n",
      "10\n",
      "9\n",
      "2\n"
     ]
    }
   ],
   "source": [
    "postorder(root)"
   ]
  },
  {
   "cell_type": "code",
   "execution_count": 36,
   "metadata": {},
   "outputs": [],
   "source": [
    "def preorder(root):\n",
    "    if root == -1:\n",
    "        return\n",
    "    \n",
    "    print(tree[root][1])\n",
    "\n",
    "    preorder(tree[root][0])\n",
    "\n",
    "    preorder(tree[root][2])"
   ]
  },
  {
   "cell_type": "code",
   "execution_count": 37,
   "metadata": {},
   "outputs": [
    {
     "name": "stdout",
     "output_type": "stream",
     "text": [
      "2\n",
      "9\n",
      "3\n",
      "10\n",
      "100\n",
      "99\n",
      "78\n",
      "34\n",
      "78\n",
      "98\n"
     ]
    }
   ],
   "source": [
    "preorder(root)"
   ]
  },
  {
   "cell_type": "code",
   "execution_count": null,
   "metadata": {},
   "outputs": [],
   "source": []
  }
 ],
 "metadata": {
  "kernelspec": {
   "display_name": "venv",
   "language": "python",
   "name": "python3"
  },
  "language_info": {
   "codemirror_mode": {
    "name": "ipython",
    "version": 3
   },
   "file_extension": ".py",
   "mimetype": "text/x-python",
   "name": "python",
   "nbconvert_exporter": "python",
   "pygments_lexer": "ipython3",
   "version": "3.13.2"
  }
 },
 "nbformat": 4,
 "nbformat_minor": 2
}
